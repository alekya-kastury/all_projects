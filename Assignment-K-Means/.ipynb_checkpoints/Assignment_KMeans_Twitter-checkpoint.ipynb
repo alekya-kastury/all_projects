{
 "cells": [
  {
   "cell_type": "markdown",
   "id": "81a57a0b",
   "metadata": {},
   "source": [
    "Assignment: \n",
    "\n",
    "Implement a basic k means clustering algorithm, ideally as a set of functions*. Run it on any dataset of your choice or on the attached online retail dataset. Provide a simple visualization of its results."
   ]
  },
  {
   "cell_type": "code",
   "execution_count": 1,
   "id": "ad01d5a9",
   "metadata": {},
   "outputs": [],
   "source": [
    "import pandas as pd\n",
    "import csv\n",
    "import numpy as np\n",
    "import string\n",
    "import random as rd\n",
    "import math\n",
    "import regex as re\n",
    "import matplotlib.pyplot as plt\n",
    "import re"
   ]
  },
  {
   "cell_type": "markdown",
   "id": "e692dab4",
   "metadata": {},
   "source": [
    "Defining functions:"
   ]
  },
  {
   "cell_type": "markdown",
   "id": "32d658c7",
   "metadata": {},
   "source": [
    "1. Extracting the tweets into a list and cleaning the tweets"
   ]
  },
  {
   "cell_type": "code",
   "execution_count": 2,
   "id": "b7c7c820",
   "metadata": {},
   "outputs": [],
   "source": [
    "def extract_and_clean(dataframe):\n",
    "    tweets=[]\n",
    "    tweets=[tweet for tweet in dataframe['tweet']]\n",
    "    for i in range(len(tweets)):\n",
    "        tweets[i]=re.sub(r\"\\n\",\" \", tweets[i])\n",
    "        tweets[i] = tweets[i].replace('#', ' ')\n",
    "        tweets[i] = re.sub(r\"http\\S+\", \" \", tweets[i])\n",
    "        tweets[i] = re.sub(r\"www\\S+\", \" \", tweets[i])\n",
    "        tweets[i] = tweets[i].lower()\n",
    "        tweets[i] = tweets[i].translate(str.maketrans('', '', string.punctuation))"
   ]
  },
  {
   "cell_type": "markdown",
   "id": "cd2b128d",
   "metadata": {},
   "source": [
    "2. Calculating Jaccard similarity comparing the similarity of words to tweets\n",
    "3. Recording similarity scores for each tweet"
   ]
  },
  {
   "cell_type": "code",
   "execution_count": 3,
   "id": "7c21adac",
   "metadata": {},
   "outputs": [],
   "source": [
    "def jaccard_similarity(word_group, tweets):\n",
    "    intersection = set(word_group).intersection(set(tweets))\n",
    "    union = set(word_group).union(set(tweets))\n",
    "    return len(intersection)/len(union)\n",
    "\n",
    "def get_scores(word_group,tweets):\n",
    "    scores = []\n",
    "    for tweet in tweets:\n",
    "        s = jaccard_similarity(word_group, tweet)\n",
    "        scores.append(s)\n",
    "    return scores"
   ]
  },
  {
   "cell_type": "markdown",
   "id": "649a1127",
   "metadata": {},
   "source": [
    "4. Defining initial centroids"
   ]
  },
  {
   "cell_type": "code",
   "execution_count": 4,
   "id": "41503368",
   "metadata": {},
   "outputs": [],
   "source": [
    "def initial_centroids(number_of_centroids,data_array,x_axis,y_axis):\n",
    "    k=number_of_centroids\n",
    "    n = data_array.shape[0]\n",
    "    rand_indices = np.random.randint(0, n, k)\n",
    "    centroids=data_array[rand_indices,:]\n",
    "    plt.scatter(centroids[:,0],centroids[:,1],s = 50, c = 'b',marker = '+')\n",
    "    plt.xlabel(x_axis)\n",
    "    plt.ylabel(y_axis)\n",
    "    return centroids"
   ]
  },
  {
   "cell_type": "markdown",
   "id": "6d2c57f5",
   "metadata": {},
   "source": [
    "5. Defining the euclidean distance"
   ]
  },
  {
   "cell_type": "code",
   "execution_count": 5,
   "id": "340710e7",
   "metadata": {},
   "outputs": [],
   "source": [
    "def euclidean_distance(number_of_centroids,data_array,centroids):\n",
    "    k=number_of_centroids\n",
    "    euc_dist = []\n",
    "    for data in range(len(data_array)):\n",
    "        euc_dist1 = []\n",
    "    for i in range(0,k):\n",
    "        euc_dist1.append(np.linalg.norm(X[data,:] - centroids[i,:]))\n",
    "    euc_dist.append(min(euc_dist1))\n",
    "    return euc_dist"
   ]
  },
  {
   "cell_type": "markdown",
   "id": "dc50b6ec",
   "metadata": {},
   "source": [
    "6. Defining clusters based on euclidean distance"
   ]
  },
  {
   "cell_type": "code",
   "execution_count": 6,
   "id": "f3ebeaaa",
   "metadata": {},
   "outputs": [],
   "source": [
    "def clusters(number_of_centroids,data_array,centroids):\n",
    "    # Initiate empty clusters\n",
    "    k=number_of_centroids\n",
    "    clusters = {}\n",
    "    # Set the range for value of k (number of centroids)\n",
    "    for i in range(k):\n",
    "        clusters[i] = []\n",
    "    for data in data_array:\n",
    "        euc_dist = []\n",
    "        for j in range(k):\n",
    "            euc_dist.append(np.linalg.norm(data - centroids[j]))\n",
    "        # Append the cluster of data to the dictionary\n",
    "        clusters[euc_dist.index(min(euc_dist))].append(data)\n",
    "    return clusters"
   ]
  },
  {
   "cell_type": "markdown",
   "id": "4234af15",
   "metadata": {},
   "source": [
    "7. Recalculating centroids to re-locate them according to the clusters"
   ]
  },
  {
   "cell_type": "code",
   "execution_count": 7,
   "id": "51fcdfc4",
   "metadata": {},
   "outputs": [],
   "source": [
    "def recalculate_centroids(number_of_centroids,centroids,clusters):\n",
    "    k=number_of_centroids\n",
    "    for i in range(k):\n",
    "        centroids[i] = np.average(clusters[i], axis=0)\n",
    "    return centroids"
   ]
  },
  {
   "cell_type": "markdown",
   "id": "7a8ee6d1",
   "metadata": {},
   "source": [
    "8. Plotting the K-Means clusters"
   ]
  },
  {
   "cell_type": "code",
   "execution_count": 8,
   "id": "85ac0763",
   "metadata": {},
   "outputs": [],
   "source": [
    "def scatter_plot(number_of_centroids,clusters,centroids,x_axis,y_axis):\n",
    "    k=number_of_centroids\n",
    "    for i in range(k):\n",
    "        a=clusters[i]\n",
    "        points=[]\n",
    "        for j in a:\n",
    "            points.append(list(j))\n",
    "        points=np.array(points)\n",
    "        plt.scatter(points[:,0],points[:,1],cmap=i,s=15)\n",
    "    plt.scatter(centroids[:,0],centroids[:,1],s = 50, c = 'black',marker = '+')\n",
    "    plt.xlabel(x_axis)\n",
    "    plt.ylabel(y_axis)"
   ]
  },
  {
   "cell_type": "markdown",
   "id": "a8c8c6d0",
   "metadata": {},
   "source": [
    "Execution:\n",
    "\n",
    "The data set taken is a CSV file of 49000 tweets. This execution aims to analyse the number of tweets that have happiness and economy related words in the same tweet."
   ]
  },
  {
   "cell_type": "markdown",
   "id": "3e7c33ca",
   "metadata": {},
   "source": [
    "Step 1: Converting .csv files into a dataframe and extracting tweets into a list"
   ]
  },
  {
   "cell_type": "code",
   "execution_count": 9,
   "id": "f4729a5f",
   "metadata": {},
   "outputs": [],
   "source": [
    "df = pd.concat(map(pd.read_csv, ['tweets_1.csv','tweets_2.csv']))"
   ]
  },
  {
   "cell_type": "code",
   "execution_count": 10,
   "id": "2a890a7a",
   "metadata": {},
   "outputs": [],
   "source": [
    "tweets=[]\n",
    "tweets=[tweet for tweet in df['tweet']]"
   ]
  },
  {
   "cell_type": "markdown",
   "id": "20f31168",
   "metadata": {},
   "source": [
    "Step 2: Words to compare the tweets with"
   ]
  },
  {
   "cell_type": "code",
   "execution_count": 11,
   "id": "0909713e",
   "metadata": {},
   "outputs": [],
   "source": [
    "economy_related_words = '''agriculture infrastructure capitalism trading service sector technology economical supply industrialism efficiency frugality retrenchment downsizing   credit debit value economize   save  economically economies sluggish rise   rising spending conserve trend low-management  decline   industry impact poor  profession    surplus   fall declining  accelerating interest sectors balance stability productivity increase rates pushing expanding stabilize rate industrial borrowing struggling deficit predicted increasing data economizer analysts investment market-based economy   debt free enterprise medium  exchange metric savepoint scarcity capital bank company stockholder fund business  \n",
    "asset treasury tourism incomes contraction employment jobs upturn deflation  macroeconomics bankruptcies exporters hyperinflation dollar entrepreneurship upswing marketplace commerce devaluation quicksave deindustrialization stockmarket reflation downspin dollarization withholder bankroll venture capital mutual fund plan economy mortgage lender unemployment rate credit crunch central bank financial institution bank rate custom duties mass-production black-market developing-countries developing economic-growth gdp trade barter distribution downturn economist'''"
   ]
  },
  {
   "cell_type": "code",
   "execution_count": 12,
   "id": "1fc78e8b",
   "metadata": {},
   "outputs": [],
   "source": [
    "happy_words='''joyous light-hearted gay blissful glad delighted elated merry ecstatic buoyant cheerful gratified joyful beatific rapturous felicitous blithe halcyon charmed exultant ravishing gladdened lucky prosperous successful auspicious'''"
   ]
  },
  {
   "cell_type": "code",
   "execution_count": 13,
   "id": "62328825",
   "metadata": {},
   "outputs": [],
   "source": [
    "string1 = happy_words\n",
    "words = string1.split()\n",
    "happiness = \" \".join(sorted(set(words), key=words.index))\n",
    "\n",
    "string2 = economy_related_words\n",
    "words = string2.split()\n",
    "economy = \" \".join(sorted(set(words), key=words.index))"
   ]
  },
  {
   "cell_type": "markdown",
   "id": "581ef323",
   "metadata": {},
   "source": [
    "Step 3: Extract and clean the tweets"
   ]
  },
  {
   "cell_type": "code",
   "execution_count": 14,
   "id": "fd1d033d",
   "metadata": {},
   "outputs": [],
   "source": [
    "extract_and_clean(df)"
   ]
  },
  {
   "cell_type": "markdown",
   "id": "f7e9491a",
   "metadata": {},
   "source": [
    "Step 4: Calculate Jaccard scores and assign the scores to each tweet"
   ]
  },
  {
   "cell_type": "code",
   "execution_count": 15,
   "id": "add4a75a",
   "metadata": {},
   "outputs": [],
   "source": [
    "happy_scores = get_scores(happiness, tweets)\n",
    "economy_scores = get_scores(economy, tweets)"
   ]
  },
  {
   "cell_type": "code",
   "execution_count": 16,
   "id": "8e87f6be",
   "metadata": {},
   "outputs": [
    {
     "data": {
      "text/plain": [
       "array([[0.51612903, 0.5625    ],\n",
       "       [0.54545455, 0.54285714],\n",
       "       [0.57142857, 0.56666667],\n",
       "       ...,\n",
       "       [0.57692308, 0.57142857],\n",
       "       [0.68965517, 0.67741935],\n",
       "       [0.51851852, 0.51724138]])"
      ]
     },
     "execution_count": 16,
     "metadata": {},
     "output_type": "execute_result"
    }
   ],
   "source": [
    "data  = {'tweets':tweets,'happiness_score':happy_scores,'economy_score':economy_scores}\n",
    "scores_df = pd.DataFrame(data)\n",
    "data_array=scores_df[['happiness_score','economy_score']].to_numpy()\n",
    "data_array"
   ]
  },
  {
   "cell_type": "markdown",
   "id": "43d1d1fe",
   "metadata": {},
   "source": [
    "Step 4: Determining initial centroids"
   ]
  },
  {
   "cell_type": "code",
   "execution_count": 17,
   "id": "0efeb10c",
   "metadata": {},
   "outputs": [
    {
     "data": {
      "image/png": "[encoded data removed]",
      "text/plain": [
       "<Figure size 432x288 with 1 Axes>"
      ]
     },
     "metadata": {
      "needs_background": "light"
     },
     "output_type": "display_data"
    }
   ],
   "source": [
    "centroids_2=initial_centroids(2,data_array,'happiness','economy')"
   ]
  },
  {
   "cell_type": "markdown",
   "id": "86c35a56",
   "metadata": {},
   "source": [
    "Step 5: Defining clusters"
   ]
  },
  {
   "cell_type": "code",
   "execution_count": 18,
   "id": "6ded9dca",
   "metadata": {},
   "outputs": [],
   "source": [
    "clusters_2=clusters(2,data_array,centroids_2)"
   ]
  },
  {
   "cell_type": "markdown",
   "id": "7985d4d1",
   "metadata": {},
   "source": [
    "Step 6: Re-calculate centroids"
   ]
  },
  {
   "cell_type": "code",
   "execution_count": 19,
   "id": "f1c1ba04",
   "metadata": {},
   "outputs": [],
   "source": [
    "centroids_2=recalculate_centroids(2,centroids_2,clusters_2)"
   ]
  },
  {
   "cell_type": "code",
   "execution_count": 20,
   "id": "3f67ccbd",
   "metadata": {},
   "outputs": [
    {
     "data": {
      "image/png": "[encoded data removed]",
      "text/plain": [
       "<Figure size 432x288 with 1 Axes>"
      ]
     },
     "metadata": {
      "needs_background": "light"
     },
     "output_type": "display_data"
    }
   ],
   "source": [
    "scatter_plot(2,clusters_2,centroids_2,'Happiness','Economy')"
   ]
  },
  {
   "cell_type": "markdown",
   "id": "fcf05570",
   "metadata": {},
   "source": [
    "When number of clusters=3:"
   ]
  },
  {
   "cell_type": "code",
   "execution_count": 21,
   "id": "2a87f7d3",
   "metadata": {},
   "outputs": [
    {
     "data": {
      "image/png": "[encoded data removed]",
      "text/plain": [
       "<Figure size 432x288 with 1 Axes>"
      ]
     },
     "metadata": {
      "needs_background": "light"
     },
     "output_type": "display_data"
    }
   ],
   "source": [
    "m=3\n",
    "centroids_3=initial_centroids(m,data_array,'Happiness','Economy')\n",
    "clusters_3=clusters(m,data_array,centroids_3)\n",
    "centroids_3=recalculate_centroids(m,centroids_3,clusters_3)\n",
    "scatter_plot(m,clusters_3,centroids_3,'Happiness','Economy')"
   ]
  },
  {
   "cell_type": "markdown",
   "id": "4d21ab61",
   "metadata": {},
   "source": [
    "When number of clusters=4:"
   ]
  },
  {
   "cell_type": "code",
   "execution_count": 22,
   "id": "bf10cbd6",
   "metadata": {},
   "outputs": [
    {
     "data": {
      "image/png": "[encoded data removed]",
      "text/plain": [
       "<Figure size 432x288 with 1 Axes>"
      ]
     },
     "metadata": {
      "needs_background": "light"
     },
     "output_type": "display_data"
    }
   ],
   "source": [
    "l=4\n",
    "centroids_4=initial_centroids(l,data_array,'Happiness','Economy')\n",
    "clusters_4=clusters(l,data_array,centroids_4)\n",
    "centroids_4=recalculate_centroids(l,centroids_4,clusters_4)\n",
    "scatter_plot(l,clusters_4,centroids_4,'Happiness','Economy')"
   ]
  },
  {
   "cell_type": "code",
   "execution_count": null,
   "id": "02f59b96",
   "metadata": {},
   "outputs": [],
   "source": []
  }
 ],
 "metadata": {
  "kernelspec": {
   "display_name": "Python 3",
   "language": "python",
   "name": "python3"
  },
  "language_info": {
   "codemirror_mode": {
    "name": "ipython",
    "version": 3
   },
   "file_extension": ".py",
   "mimetype": "text/x-python",
   "name": "python",
   "nbconvert_exporter": "python",
   "pygments_lexer": "ipython3",
   "version": "3.8.8"
  }
 },
 "nbformat": 4,
 "nbformat_minor": 5
}
